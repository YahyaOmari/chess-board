{
 "cells": [
  {
   "cell_type": "code",
   "execution_count": 7,
   "id": "20c85db3-983d-48fb-b368-b24e1fc1206c",
   "metadata": {},
   "outputs": [],
   "source": [
    "import numpy as np\n",
    "import matplotlib.pyplot as plt"
   ]
  },
  {
   "cell_type": "code",
   "execution_count": 65,
   "id": "a95b56d3-2745-4285-aec4-894cf3c63bfe",
   "metadata": {},
   "outputs": [
    {
     "data": {
      "image/png": "[encoded data removed]",
      "text/plain": [
       "<Figure size 432x288 with 1 Axes>"
      ]
     },
     "metadata": {
      "needs_background": "light"
     },
     "output_type": "display_data"
    }
   ],
   "source": [
    "class ChessBoard:\n",
    "    white = [1,1,1]\n",
    "    blue = [0,1,1]\n",
    "    red = [1,.2,0]\n",
    "    \"\"\"\n",
    "    I will not use black color, because it is by default black\n",
    "    \"\"\"\n",
    "    \n",
    "    def __init__(self):\n",
    "        self.grid = np.zeros([8,8,3])\n",
    "        \n",
    "        for i in range (8):\n",
    "            for k in range(8):\n",
    "                if(i%2==0 or k%2==0) and (i%2==1 or k%2==1):\n",
    "                    self.grid[i,k] = ChessBoard.white\n",
    "        \n",
    "    def render(self):\n",
    "        plt.imshow(self.grid)\n",
    "    \n",
    "    def add_red(self, red_fist, red_second):\n",
    "        self.grid[red_fist, red_second] = ChessBoard.red\n",
    "    \n",
    "    def add_blue(self, blue_fist, blue_second):\n",
    "        self.grid[blue_fist, blue_second] = ChessBoard.blue\n",
    "        \n",
    "    def is_under_attack(self, red_fist, red_second, blue_fist, blue_second):\n",
    "        \n",
    "        if red_fist == blue_fist:\n",
    "            return True\n",
    "        elif red_second == blue_second:\n",
    "            return True\n",
    "        elif abs(red_fist- red_second) == abs(blue_fist- blue_second):\n",
    "            return True\n",
    "        else:\n",
    "            return False\n",
    "        \n",
    "        \n",
    "    \n",
    "chess_board = ChessBoard()\n",
    "chess_board.add_red(3,4)\n",
    "chess_board.add_blue(4,3)\n",
    "chess_board.add_red(0,0)\n",
    "chess_board.add_blue(7,7)\n",
    "chess_board.add_red(1,0)\n",
    "chess_board.add_blue(1,1)\n",
    "chess_board.render()\n",
    "        "
   ]
  },
  {
   "cell_type": "code",
   "execution_count": 69,
   "id": "f6a98127-b29f-468e-9ada-0e4fea835453",
   "metadata": {},
   "outputs": [
    {
     "name": "stdout",
     "output_type": "stream",
     "text": [
      "Passed the test\n"
     ]
    }
   ],
   "source": [
    "# *****************Testing the code***************** \n",
    "# Checking if in the same raw\n",
    "assert chess_board.is_under_attack(0,0,1,1)==True\n",
    "# Checking if in the same column:\n",
    "assert chess_board.is_under_attack(0,0,0,1)==True\n",
    "# Checking if in the same diagonal:\n",
    "assert chess_board.is_under_attack(0,0,7,7)==True\n",
    "# Checking if not under attack:\n",
    "assert chess_board.is_under_attack(7,0,0,6)==False\n",
    "print(\"Passed the test\")"
   ]
  },
  {
   "cell_type": "code",
   "execution_count": null,
   "id": "aa01cedc-4ab6-4000-a83f-2fdb42895358",
   "metadata": {},
   "outputs": [],
   "source": []
  },
  {
   "cell_type": "code",
   "execution_count": null,
   "id": "fa8fe1bb-e736-43bd-9c4f-2e9c6ec93f24",
   "metadata": {},
   "outputs": [],
   "source": []
  },
  {
   "cell_type": "code",
   "execution_count": null,
   "id": "2aa2c6ee-b974-4091-b733-723c69a709b9",
   "metadata": {},
   "outputs": [],
   "source": []
  },
  {
   "cell_type": "code",
   "execution_count": null,
   "id": "ff6822b8-12d4-4d79-9c20-f257ed142239",
   "metadata": {},
   "outputs": [],
   "source": []
  }
 ],
 "metadata": {
  "kernelspec": {
   "display_name": "Python 3",
   "language": "python",
   "name": "python3"
  },
  "language_info": {
   "codemirror_mode": {
    "name": "ipython",
    "version": 3
   },
   "file_extension": ".py",
   "mimetype": "text/x-python",
   "name": "python",
   "nbconvert_exporter": "python",
   "pygments_lexer": "ipython3",
   "version": "3.9.4"
  }
 },
 "nbformat": 4,
 "nbformat_minor": 5
}
